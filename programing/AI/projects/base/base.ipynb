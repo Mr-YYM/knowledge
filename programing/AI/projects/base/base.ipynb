{
 "cells": [
  {
   "cell_type": "code",
   "execution_count": 1,
   "id": "7ee89eca-7b06-4a13-94c6-382d8ea731e2",
   "metadata": {},
   "outputs": [
    {
     "name": "stdout",
     "output_type": "stream",
     "text": [
      "Requirement already satisfied: numpy in /opt/anaconda3/envs/tf2/lib/python3.11/site-packages (1.26.4)\n",
      "Requirement already satisfied: matplotlib in /opt/anaconda3/envs/tf2/lib/python3.11/site-packages (3.9.0)\n",
      "Requirement already satisfied: ipywidgets in /opt/anaconda3/envs/tf2/lib/python3.11/site-packages (8.1.5)\n",
      "Requirement already satisfied: scipy in /opt/anaconda3/envs/tf2/lib/python3.11/site-packages (1.13.0)\n",
      "Requirement already satisfied: plotly in /opt/anaconda3/envs/tf2/lib/python3.11/site-packages (6.0.0)\n",
      "Requirement already satisfied: sympy in /opt/anaconda3/envs/tf2/lib/python3.11/site-packages (1.13.3)\n",
      "Requirement already satisfied: contourpy>=1.0.1 in /opt/anaconda3/envs/tf2/lib/python3.11/site-packages (from matplotlib) (1.2.1)\n",
      "Requirement already satisfied: cycler>=0.10 in /opt/anaconda3/envs/tf2/lib/python3.11/site-packages (from matplotlib) (0.12.1)\n",
      "Requirement already satisfied: fonttools>=4.22.0 in /opt/anaconda3/envs/tf2/lib/python3.11/site-packages (from matplotlib) (4.51.0)\n",
      "Requirement already satisfied: kiwisolver>=1.3.1 in /opt/anaconda3/envs/tf2/lib/python3.11/site-packages (from matplotlib) (1.4.5)\n",
      "Requirement already satisfied: packaging>=20.0 in /opt/anaconda3/envs/tf2/lib/python3.11/site-packages (from matplotlib) (24.0)\n",
      "Requirement already satisfied: pillow>=8 in /opt/anaconda3/envs/tf2/lib/python3.11/site-packages (from matplotlib) (10.3.0)\n",
      "Requirement already satisfied: pyparsing>=2.3.1 in /opt/anaconda3/envs/tf2/lib/python3.11/site-packages (from matplotlib) (3.1.2)\n",
      "Requirement already satisfied: python-dateutil>=2.7 in /opt/anaconda3/envs/tf2/lib/python3.11/site-packages (from matplotlib) (2.9.0.post0)\n",
      "Requirement already satisfied: comm>=0.1.3 in /opt/anaconda3/envs/tf2/lib/python3.11/site-packages (from ipywidgets) (0.2.1)\n",
      "Requirement already satisfied: ipython>=6.1.0 in /opt/anaconda3/envs/tf2/lib/python3.11/site-packages (from ipywidgets) (8.20.0)\n",
      "Requirement already satisfied: traitlets>=4.3.1 in /opt/anaconda3/envs/tf2/lib/python3.11/site-packages (from ipywidgets) (5.7.1)\n",
      "Requirement already satisfied: widgetsnbextension~=4.0.12 in /opt/anaconda3/envs/tf2/lib/python3.11/site-packages (from ipywidgets) (4.0.13)\n",
      "Requirement already satisfied: jupyterlab-widgets~=3.0.12 in /opt/anaconda3/envs/tf2/lib/python3.11/site-packages (from ipywidgets) (3.0.13)\n",
      "Requirement already satisfied: narwhals>=1.15.1 in /opt/anaconda3/envs/tf2/lib/python3.11/site-packages (from plotly) (1.28.0)\n",
      "Requirement already satisfied: mpmath<1.4,>=1.1.0 in /opt/anaconda3/envs/tf2/lib/python3.11/site-packages (from sympy) (1.3.0)\n",
      "Requirement already satisfied: decorator in /opt/anaconda3/envs/tf2/lib/python3.11/site-packages (from ipython>=6.1.0->ipywidgets) (5.1.1)\n",
      "Requirement already satisfied: jedi>=0.16 in /opt/anaconda3/envs/tf2/lib/python3.11/site-packages (from ipython>=6.1.0->ipywidgets) (0.18.1)\n",
      "Requirement already satisfied: matplotlib-inline in /opt/anaconda3/envs/tf2/lib/python3.11/site-packages (from ipython>=6.1.0->ipywidgets) (0.1.6)\n",
      "Requirement already satisfied: prompt-toolkit<3.1.0,>=3.0.41 in /opt/anaconda3/envs/tf2/lib/python3.11/site-packages (from ipython>=6.1.0->ipywidgets) (3.0.43)\n",
      "Requirement already satisfied: pygments>=2.4.0 in /opt/anaconda3/envs/tf2/lib/python3.11/site-packages (from ipython>=6.1.0->ipywidgets) (2.15.1)\n",
      "Requirement already satisfied: stack-data in /opt/anaconda3/envs/tf2/lib/python3.11/site-packages (from ipython>=6.1.0->ipywidgets) (0.2.0)\n",
      "Requirement already satisfied: pexpect>4.3 in /opt/anaconda3/envs/tf2/lib/python3.11/site-packages (from ipython>=6.1.0->ipywidgets) (4.8.0)\n",
      "Requirement already satisfied: six>=1.5 in /opt/anaconda3/envs/tf2/lib/python3.11/site-packages (from python-dateutil>=2.7->matplotlib) (1.16.0)\n",
      "Requirement already satisfied: parso<0.9.0,>=0.8.0 in /opt/anaconda3/envs/tf2/lib/python3.11/site-packages (from jedi>=0.16->ipython>=6.1.0->ipywidgets) (0.8.3)\n",
      "Requirement already satisfied: ptyprocess>=0.5 in /opt/anaconda3/envs/tf2/lib/python3.11/site-packages (from pexpect>4.3->ipython>=6.1.0->ipywidgets) (0.7.0)\n",
      "Requirement already satisfied: wcwidth in /opt/anaconda3/envs/tf2/lib/python3.11/site-packages (from prompt-toolkit<3.1.0,>=3.0.41->ipython>=6.1.0->ipywidgets) (0.2.5)\n",
      "Requirement already satisfied: executing in /opt/anaconda3/envs/tf2/lib/python3.11/site-packages (from stack-data->ipython>=6.1.0->ipywidgets) (0.8.3)\n",
      "Requirement already satisfied: asttokens in /opt/anaconda3/envs/tf2/lib/python3.11/site-packages (from stack-data->ipython>=6.1.0->ipywidgets) (2.0.5)\n",
      "Requirement already satisfied: pure-eval in /opt/anaconda3/envs/tf2/lib/python3.11/site-packages (from stack-data->ipython>=6.1.0->ipywidgets) (0.2.2)\n"
     ]
    }
   ],
   "source": [
    "# 安装必要库（若未安装）\n",
    "!pip install numpy matplotlib ipywidgets scipy plotly sympy\n",
    "\n",
    "# 导入库\n",
    "import numpy as np\n",
    "import matplotlib.pyplot as plt\n",
    "from matplotlib.widgets import Slider\n",
    "from ipywidgets import interact, interactive, FloatSlider\n",
    "import plotly.graph_objects as go\n",
    "from scipy.linalg import eig\n",
    "from sympy import symbols, diff, lambdify\n",
    "%matplotlib inline"
   ]
  },
  {
   "cell_type": "code",
   "execution_count": 2,
   "id": "d39c38ed-241a-4b33-8309-9013c82c2d8d",
   "metadata": {},
   "outputs": [
    {
     "data": {
      "application/vnd.jupyter.widget-view+json": {
       "model_id": "7fe5f245ba69415fb9b845f8a8b9f1b8",
       "version_major": 2,
       "version_minor": 0
      },
      "text/plain": [
       "interactive(children=(FloatSlider(value=1.0, description='a', max=2.0, min=-2.0), FloatSlider(value=0.0, descr…"
      ]
     },
     "metadata": {},
     "output_type": "display_data"
    }
   ],
   "source": [
    "def plot_matrix_transform(a=1, b=0, c=0, d=1):\n",
    "    # 定义原始向量\n",
    "    v = np.array([[0, 0, 1, 1], [0, 1, 1, 0]])  # 正方形的四个顶点\n",
    "    \n",
    "    # 定义变换矩阵\n",
    "    M = np.array([[a, b], [c, d]])\n",
    "    transformed_v = M @ v\n",
    "    \n",
    "    # 绘制变换前后的图形\n",
    "    plt.figure(figsize=(10,5))\n",
    "    plt.subplot(1,2,1)\n",
    "    plt.plot(v[0], v[1], 'bo-', label='Original')\n",
    "    plt.xlim(-3,3)\n",
    "    plt.ylim(-3,3)\n",
    "    plt.grid(True)\n",
    "    plt.title('Original Shape')\n",
    "    \n",
    "    plt.subplot(1,2,2)\n",
    "    plt.plot(transformed_v[0], transformed_v[1], 'ro-', label='Transformed')\n",
    "    plt.xlim(-3,3)\n",
    "    plt.ylim(-3,3)\n",
    "    plt.grid(True)\n",
    "    plt.title('After Matrix Transformation')\n",
    "    \n",
    "    # 计算并显示特征值和特征向量\n",
    "    eigenvalues, eigenvectors = eig(M)\n",
    "    print(f\"特征值: {eigenvalues}\")\n",
    "    print(f\"特征向量:\\n{eigenvectors}\")\n",
    "\n",
    "# 交互式调整矩阵参数\n",
    "interact(plot_matrix_transform, \n",
    "         a=(-2.0, 2.0, 0.1), \n",
    "         b=(-2.0, 2.0, 0.1),\n",
    "         c=(-2.0, 2.0, 0.1),\n",
    "         d=(-2.0, 2.0, 0.1));"
   ]
  },
  {
   "cell_type": "code",
   "execution_count": 3,
   "id": "69b1627c-a40d-45f6-be5a-705392f2ecde",
   "metadata": {},
   "outputs": [
    {
     "data": {
      "application/vnd.jupyter.widget-view+json": {
       "model_id": "0e621a39ba6441cf82ff3f53ba1f4eb4",
       "version_major": 2,
       "version_minor": 0
      },
      "text/plain": [
       "interactive(children=(FloatSlider(value=0.01, description='prior', max=0.5, min=0.01, step=0.01), FloatSlider(…"
      ]
     },
     "metadata": {},
     "output_type": "display_data"
    }
   ],
   "source": [
    "def bayes_theorem(prior=0.01, sensitivity=0.95, specificity=0.90):\n",
    "    # 计算后验概率 P(Disease|Positive)\n",
    "    p_positive = prior * sensitivity + (1 - prior) * (1 - specificity)\n",
    "    posterior = (prior * sensitivity) / p_positive\n",
    "    \n",
    "    # 绘制概率分布\n",
    "    labels = ['P(Disease)', 'P(No Disease)']\n",
    "    sizes = [prior, 1 - prior]\n",
    "    \n",
    "    plt.figure(figsize=(12,5))\n",
    "    plt.subplot(1,2,1)\n",
    "    plt.pie(sizes, labels=labels, autopct='%1.1f%%', colors=['#ff9999','#66b3ff'])\n",
    "    plt.title('Prior Probability')\n",
    "    \n",
    "    plt.subplot(1,2,2)\n",
    "    plt.bar(['P(Disease|Positive)'], [posterior], color='#2ca02c')\n",
    "    plt.ylim(0, 1)\n",
    "    plt.title(f'Posterior Probability = {posterior:.2f}')\n",
    "    plt.tight_layout()\n",
    "\n",
    "# 交互式调整参数\n",
    "interact(bayes_theorem,\n",
    "         prior=FloatSlider(min=0.01, max=0.5, step=0.01, value=0.01),\n",
    "         sensitivity=FloatSlider(min=0.5, max=1.0, step=0.05, value=0.95),\n",
    "         specificity=FloatSlider(min=0.5, max=1.0, step=0.05, value=0.90));"
   ]
  },
  {
   "cell_type": "code",
   "execution_count": 4,
   "id": "c973f30a-202a-4e57-a9fe-d4895cff1739",
   "metadata": {},
   "outputs": [
    {
     "data": {
      "application/vnd.jupyter.widget-view+json": {
       "model_id": "04c987e2d8f74c23954ce0afc7563620",
       "version_major": 2,
       "version_minor": 0
      },
      "text/plain": [
       "interactive(children=(IntSlider(value=0, description='theta', max=360, step=5), Output()), _dom_classes=('widg…"
      ]
     },
     "metadata": {},
     "output_type": "display_data"
    }
   ],
   "source": [
    "def plot_3d_eigenvectors(theta=0):\n",
    "    # 生成旋转矩阵（绕z轴旋转）\n",
    "    theta_rad = np.deg2rad(theta)\n",
    "    rotation_matrix = np.array([\n",
    "        [np.cos(theta_rad), -np.sin(theta_rad), 0],\n",
    "        [np.sin(theta_rad), np.cos(theta_rad), 0],\n",
    "        [0, 0, 1]\n",
    "    ])\n",
    "    \n",
    "    # 计算特征值和特征向量\n",
    "    eigenvalues, eigenvectors = eig(rotation_matrix)\n",
    "    \n",
    "    # 绘制3D向量\n",
    "    fig = go.Figure()\n",
    "    vectors = np.eye(3)  # 原始坐标轴\n",
    "    transformed_vectors = rotation_matrix @ vectors\n",
    "    \n",
    "    # 绘制原始和变换后的向量\n",
    "    for i in range(3):\n",
    "        fig.add_trace(go.Scatter3d(\n",
    "            x=[0, vectors[0,i]], y=[0, vectors[1,i]], z=[0, vectors[2,i]],\n",
    "            mode='lines', name=f'Original Axis {i+1}'\n",
    "        ))\n",
    "        fig.add_trace(go.Scatter3d(\n",
    "            x=[0, transformed_vectors[0,i]], y=[0, transformed_vectors[1,i]], z=[0, transformed_vectors[2,i]],\n",
    "            mode='lines', name=f'Transformed Axis {i+1}'\n",
    "        ))\n",
    "    \n",
    "    fig.update_layout(scene=dict(xaxis_title='X', yaxis_title='Y', zaxis_title='Z'),\n",
    "                     title=f'Rotation Matrix (θ={theta}°), Eigenvalues: {eigenvalues.round(2)}')\n",
    "    fig.show()\n",
    "\n",
    "# 交互式调整旋转角度（0°到360°）\n",
    "interact(plot_3d_eigenvectors, theta=(0, 360, 5));"
   ]
  },
  {
   "cell_type": "code",
   "execution_count": null,
   "id": "569d6949-5bad-44fb-ba83-bc0313331edb",
   "metadata": {},
   "outputs": [],
   "source": []
  }
 ],
 "metadata": {
  "kernelspec": {
   "display_name": "Python 3 (ipykernel)",
   "language": "python",
   "name": "python3"
  },
  "language_info": {
   "codemirror_mode": {
    "name": "ipython",
    "version": 3
   },
   "file_extension": ".py",
   "mimetype": "text/x-python",
   "name": "python",
   "nbconvert_exporter": "python",
   "pygments_lexer": "ipython3",
   "version": "3.11.9"
  }
 },
 "nbformat": 4,
 "nbformat_minor": 5
}
